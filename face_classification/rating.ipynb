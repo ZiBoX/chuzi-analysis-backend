{
 "cells": [
  {
   "cell_type": "code",
   "execution_count": 40,
   "metadata": {},
   "outputs": [],
   "source": [
    "import os\n",
    "\n",
    "import numpy as np\n",
    "import json\n",
    "import pandas as pd\n",
    "\n",
    "import matplotlib\n",
    "%matplotlib inline\n",
    "from matplotlib import pylab as plt\n",
    "\n",
    "from collections import Counter, defaultdict\n",
    "from scipy.interpolate import spline\n",
    "import scipy.stats"
   ]
  },
  {
   "cell_type": "code",
   "execution_count": 41,
   "metadata": {},
   "outputs": [],
   "source": [
    "results_dir = './results/'"
   ]
  },
  {
   "cell_type": "code",
   "execution_count": 42,
   "metadata": {},
   "outputs": [],
   "source": [
    "def count_emotions(result):\n",
    "    blob = [x['emotion'] for x in result if len(x) > 0]\n",
    "    return defaultdict(lambda: 0, Counter(blob))"
   ]
  },
  {
   "cell_type": "code",
   "execution_count": 43,
   "metadata": {},
   "outputs": [],
   "source": [
    "def happines_by_time(result):\n",
    "    def extract_happiness_score(x):\n",
    "        if len(x) > 0:\n",
    "            if x['emotion'] == 'happy': return 1\n",
    "            elif x['emotion'] == 'sad': return -1\n",
    "\n",
    "        return 0\n",
    "\n",
    "    xs = np.arange(len(result))\n",
    "    ys = np.array(list(map(extract_happiness_score, result)))\n",
    "\n",
    "#     xs = [xs[i] for i in range(0, len(xs), 20)]\n",
    "#     ys = [ys[i] for i in range(0, len(ys), 20)]\n",
    "\n",
    "#     x_old = xs\n",
    "#     x_new1 = np.linspace(0, xs[-1], 100)\n",
    "#     x_new2 = np.linspace(0, xs[-1], 1000)\n",
    "#     smooth = spline(x_old, ys, x_new1)\n",
    "#     smooth = spline(x_new1, smooth, x_new2)\n",
    "\n",
    "    return xs, ys"
   ]
  },
  {
   "cell_type": "code",
   "execution_count": 44,
   "metadata": {},
   "outputs": [],
   "source": [
    "imdb_df = pd.read_csv('./imdb_250.csv', index_col='index')"
   ]
  },
  {
   "cell_type": "code",
   "execution_count": 45,
   "metadata": {},
   "outputs": [],
   "source": [
    "rating = {}\n",
    "for result_name in os.listdir(results_dir):\n",
    "    result_path = results_dir + result_name\n",
    "    result_id = int(result_name[:-5])\n",
    "    \n",
    "    with open(result_path) as fin:\n",
    "        result = json.load(fin)\n",
    "        \n",
    "    emotion_counter = count_emotions(result)\n",
    "    rating[result_id] = emotion_counter\n",
    "    \n",
    "#     happy_xs, happy_ys = happines_by_time(result)\n",
    "#     happy_smoothed_ys = window_smooth(happy_ys, 10)\n",
    "#     ys = happy_smoothed_ys[happy_smoothed_ys != 0]\n",
    "#     xs = happy_xs[happy_smoothed_ys != 0]\n",
    "    \n",
    "#     print(result_id, imdb_df.loc[result_id]['title'], imdb_df.loc[result_id]['genre'])\n",
    "#     xnew = np.linspace(xs[0], xs[-1], 300)\n",
    "#     power_smooth = spline(xs, ys, xnew)\n",
    "#     plt.plot(xnew, power_smooth)\n",
    "#     plt.ylim(-1.2, 1.2)\n",
    "#     plt.show()"
   ]
  },
  {
   "cell_type": "code",
   "execution_count": 46,
   "metadata": {},
   "outputs": [],
   "source": [
    "def window_smooth(signal, window_size):\n",
    "    pad_width = window_size // 2\n",
    "    padded_signal = np.lib.pad(signal, pad_width=pad_width, mode='constant', constant_values=(0, 0))\n",
    "    \n",
    "    smoothed_signal = []\n",
    "    for i in range(pad_width, len(signal) + pad_width):\n",
    "        smoothed_signal.append(scipy.stats.mode(padded_signal[i - pad_width:i + pad_width + 1])[0][0])\n",
    "        \n",
    "    return np.array(smoothed_signal)"
   ]
  },
  {
   "cell_type": "code",
   "execution_count": 47,
   "metadata": {},
   "outputs": [
    {
     "name": "stdout",
     "output_type": "stream",
     "text": [
      "50 Apocalypse Now Drama, War\n",
      "89 To Kill a Mockingbird Crime, Drama\n"
     ]
    },
    {
     "ename": "KeyError",
     "evalue": "'the label [253] is not in the [index]'",
     "output_type": "error",
     "traceback": [
      "\u001b[0;31m---------------------------------------------------------------------------\u001b[0m",
      "\u001b[0;31mKeyError\u001b[0m                                  Traceback (most recent call last)",
      "\u001b[0;32m/usr/local/lib/python3.5/dist-packages/pandas/core/indexing.py\u001b[0m in \u001b[0;36m_has_valid_type\u001b[0;34m(self, key, axis)\u001b[0m\n\u001b[1;32m   1433\u001b[0m                 \u001b[0;32mif\u001b[0m \u001b[0;32mnot\u001b[0m \u001b[0max\u001b[0m\u001b[0;34m.\u001b[0m\u001b[0mcontains\u001b[0m\u001b[0;34m(\u001b[0m\u001b[0mkey\u001b[0m\u001b[0;34m)\u001b[0m\u001b[0;34m:\u001b[0m\u001b[0;34m\u001b[0m\u001b[0m\n\u001b[0;32m-> 1434\u001b[0;31m                     \u001b[0merror\u001b[0m\u001b[0;34m(\u001b[0m\u001b[0;34m)\u001b[0m\u001b[0;34m\u001b[0m\u001b[0m\n\u001b[0m\u001b[1;32m   1435\u001b[0m             \u001b[0;32mexcept\u001b[0m \u001b[0mTypeError\u001b[0m \u001b[0;32mas\u001b[0m \u001b[0me\u001b[0m\u001b[0;34m:\u001b[0m\u001b[0;34m\u001b[0m\u001b[0m\n",
      "\u001b[0;32m/usr/local/lib/python3.5/dist-packages/pandas/core/indexing.py\u001b[0m in \u001b[0;36merror\u001b[0;34m()\u001b[0m\n\u001b[1;32m   1428\u001b[0m                 raise KeyError(\"the label [%s] is not in the [%s]\" %\n\u001b[0;32m-> 1429\u001b[0;31m                                (key, self.obj._get_axis_name(axis)))\n\u001b[0m\u001b[1;32m   1430\u001b[0m \u001b[0;34m\u001b[0m\u001b[0m\n",
      "\u001b[0;31mKeyError\u001b[0m: 'the label [253] is not in the [index]'",
      "\nDuring handling of the above exception, another exception occurred:\n",
      "\u001b[0;31mKeyError\u001b[0m                                  Traceback (most recent call last)",
      "\u001b[0;32m<ipython-input-47-b4ed1db6e642>\u001b[0m in \u001b[0;36m<module>\u001b[0;34m()\u001b[0m\n\u001b[1;32m      4\u001b[0m \u001b[0;31m# rating_sorted = sorted(rating_list, key=lambda x: sum(x[1].values()))\u001b[0m\u001b[0;34m\u001b[0m\u001b[0;34m\u001b[0m\u001b[0m\n\u001b[1;32m      5\u001b[0m \u001b[0;32mfor\u001b[0m \u001b[0mx\u001b[0m \u001b[0;32min\u001b[0m \u001b[0mrating_sorted\u001b[0m\u001b[0;34m:\u001b[0m\u001b[0;34m\u001b[0m\u001b[0m\n\u001b[0;32m----> 6\u001b[0;31m     \u001b[0mprint\u001b[0m\u001b[0;34m(\u001b[0m\u001b[0mx\u001b[0m\u001b[0;34m[\u001b[0m\u001b[0;36m0\u001b[0m\u001b[0;34m]\u001b[0m\u001b[0;34m,\u001b[0m \u001b[0mimdb_df\u001b[0m\u001b[0;34m.\u001b[0m\u001b[0mloc\u001b[0m\u001b[0;34m[\u001b[0m\u001b[0mx\u001b[0m\u001b[0;34m[\u001b[0m\u001b[0;36m0\u001b[0m\u001b[0;34m]\u001b[0m\u001b[0;34m]\u001b[0m\u001b[0;34m[\u001b[0m\u001b[0;34m'title'\u001b[0m\u001b[0;34m]\u001b[0m\u001b[0;34m,\u001b[0m \u001b[0mimdb_df\u001b[0m\u001b[0;34m.\u001b[0m\u001b[0mloc\u001b[0m\u001b[0;34m[\u001b[0m\u001b[0mx\u001b[0m\u001b[0;34m[\u001b[0m\u001b[0;36m0\u001b[0m\u001b[0;34m]\u001b[0m\u001b[0;34m]\u001b[0m\u001b[0;34m[\u001b[0m\u001b[0;34m'genre'\u001b[0m\u001b[0;34m]\u001b[0m\u001b[0;34m)\u001b[0m\u001b[0;34m\u001b[0m\u001b[0m\n\u001b[0m",
      "\u001b[0;32m/usr/local/lib/python3.5/dist-packages/pandas/core/indexing.py\u001b[0m in \u001b[0;36m__getitem__\u001b[0;34m(self, key)\u001b[0m\n\u001b[1;32m   1326\u001b[0m         \u001b[0;32melse\u001b[0m\u001b[0;34m:\u001b[0m\u001b[0;34m\u001b[0m\u001b[0m\n\u001b[1;32m   1327\u001b[0m             \u001b[0mkey\u001b[0m \u001b[0;34m=\u001b[0m \u001b[0mcom\u001b[0m\u001b[0;34m.\u001b[0m\u001b[0m_apply_if_callable\u001b[0m\u001b[0;34m(\u001b[0m\u001b[0mkey\u001b[0m\u001b[0;34m,\u001b[0m \u001b[0mself\u001b[0m\u001b[0;34m.\u001b[0m\u001b[0mobj\u001b[0m\u001b[0;34m)\u001b[0m\u001b[0;34m\u001b[0m\u001b[0m\n\u001b[0;32m-> 1328\u001b[0;31m             \u001b[0;32mreturn\u001b[0m \u001b[0mself\u001b[0m\u001b[0;34m.\u001b[0m\u001b[0m_getitem_axis\u001b[0m\u001b[0;34m(\u001b[0m\u001b[0mkey\u001b[0m\u001b[0;34m,\u001b[0m \u001b[0maxis\u001b[0m\u001b[0;34m=\u001b[0m\u001b[0;36m0\u001b[0m\u001b[0;34m)\u001b[0m\u001b[0;34m\u001b[0m\u001b[0m\n\u001b[0m\u001b[1;32m   1329\u001b[0m \u001b[0;34m\u001b[0m\u001b[0m\n\u001b[1;32m   1330\u001b[0m     \u001b[0;32mdef\u001b[0m \u001b[0m_is_scalar_access\u001b[0m\u001b[0;34m(\u001b[0m\u001b[0mself\u001b[0m\u001b[0;34m,\u001b[0m \u001b[0mkey\u001b[0m\u001b[0;34m)\u001b[0m\u001b[0;34m:\u001b[0m\u001b[0;34m\u001b[0m\u001b[0m\n",
      "\u001b[0;32m/usr/local/lib/python3.5/dist-packages/pandas/core/indexing.py\u001b[0m in \u001b[0;36m_getitem_axis\u001b[0;34m(self, key, axis)\u001b[0m\n\u001b[1;32m   1549\u001b[0m \u001b[0;34m\u001b[0m\u001b[0m\n\u001b[1;32m   1550\u001b[0m         \u001b[0;31m# fall thru to straight lookup\u001b[0m\u001b[0;34m\u001b[0m\u001b[0;34m\u001b[0m\u001b[0m\n\u001b[0;32m-> 1551\u001b[0;31m         \u001b[0mself\u001b[0m\u001b[0;34m.\u001b[0m\u001b[0m_has_valid_type\u001b[0m\u001b[0;34m(\u001b[0m\u001b[0mkey\u001b[0m\u001b[0;34m,\u001b[0m \u001b[0maxis\u001b[0m\u001b[0;34m)\u001b[0m\u001b[0;34m\u001b[0m\u001b[0m\n\u001b[0m\u001b[1;32m   1552\u001b[0m         \u001b[0;32mreturn\u001b[0m \u001b[0mself\u001b[0m\u001b[0;34m.\u001b[0m\u001b[0m_get_label\u001b[0m\u001b[0;34m(\u001b[0m\u001b[0mkey\u001b[0m\u001b[0;34m,\u001b[0m \u001b[0maxis\u001b[0m\u001b[0;34m=\u001b[0m\u001b[0maxis\u001b[0m\u001b[0;34m)\u001b[0m\u001b[0;34m\u001b[0m\u001b[0m\n\u001b[1;32m   1553\u001b[0m \u001b[0;34m\u001b[0m\u001b[0m\n",
      "\u001b[0;32m/usr/local/lib/python3.5/dist-packages/pandas/core/indexing.py\u001b[0m in \u001b[0;36m_has_valid_type\u001b[0;34m(self, key, axis)\u001b[0m\n\u001b[1;32m   1440\u001b[0m                 \u001b[0;32mraise\u001b[0m\u001b[0;34m\u001b[0m\u001b[0m\n\u001b[1;32m   1441\u001b[0m             \u001b[0;32mexcept\u001b[0m\u001b[0;34m:\u001b[0m\u001b[0;34m\u001b[0m\u001b[0m\n\u001b[0;32m-> 1442\u001b[0;31m                 \u001b[0merror\u001b[0m\u001b[0;34m(\u001b[0m\u001b[0;34m)\u001b[0m\u001b[0;34m\u001b[0m\u001b[0m\n\u001b[0m\u001b[1;32m   1443\u001b[0m \u001b[0;34m\u001b[0m\u001b[0m\n\u001b[1;32m   1444\u001b[0m         \u001b[0;32mreturn\u001b[0m \u001b[0;32mTrue\u001b[0m\u001b[0;34m\u001b[0m\u001b[0m\n",
      "\u001b[0;32m/usr/local/lib/python3.5/dist-packages/pandas/core/indexing.py\u001b[0m in \u001b[0;36merror\u001b[0;34m()\u001b[0m\n\u001b[1;32m   1427\u001b[0m                                     \"key\")\n\u001b[1;32m   1428\u001b[0m                 raise KeyError(\"the label [%s] is not in the [%s]\" %\n\u001b[0;32m-> 1429\u001b[0;31m                                (key, self.obj._get_axis_name(axis)))\n\u001b[0m\u001b[1;32m   1430\u001b[0m \u001b[0;34m\u001b[0m\u001b[0m\n\u001b[1;32m   1431\u001b[0m             \u001b[0;32mtry\u001b[0m\u001b[0;34m:\u001b[0m\u001b[0;34m\u001b[0m\u001b[0m\n",
      "\u001b[0;31mKeyError\u001b[0m: 'the label [253] is not in the [index]'"
     ]
    }
   ],
   "source": [
    "rating_list = list(rating.items())\n",
    "# rating_sorted = sorted(rating_list, key=lambda x: x[1]['sad'] / sum(x[1].values()))\n",
    "rating_sorted = sorted(rating_list, key=lambda x: x[1]['happy'] / (x[1]['sad'] + x[1]['happy']))\n",
    "# rating_sorted = sorted(rating_list, key=lambda x: sum(x[1].values()))\n",
    "for x in rating_sorted:\n",
    "    print(x[0], imdb_df.loc[x[0]]['title'], imdb_df.loc[x[0]]['genre'])"
   ]
  },
  {
   "cell_type": "code",
   "execution_count": 48,
   "metadata": {},
   "outputs": [],
   "source": [
    "emotions = []\n",
    "for i, d in rating_list:\n",
    "    emotions.append({\n",
    "        'index': i,\n",
    "        'h/(h+s)': d['happy'] / (d['happy'] + d['sad']),\n",
    "        'h/all': d['happy'] / sum(d.values()),\n",
    "        's/all': d['sad'] / sum(d.values())\n",
    "    })"
   ]
  },
  {
   "cell_type": "code",
   "execution_count": 53,
   "metadata": {},
   "outputs": [],
   "source": [
    "df = pd.DataFrame(emotions)\n",
    "# df = df.set_index('index')\n",
    "df.to_csv('emotions.csv')"
   ]
  },
  {
   "cell_type": "code",
   "execution_count": 55,
   "metadata": {},
   "outputs": [
    {
     "name": "stdout",
     "output_type": "stream",
     "text": [
      "{'h/(h+s)': 0.30094043887147337, 's/all': 0.30886426592797783, 'h/all': 0.1329639889196676, 'index': 1.0}\n",
      "{'h/(h+s)': 0.12450592885375494, 's/all': 0.53245192307692313, 'h/all': 0.075721153846153841, 'index': 2.0}\n",
      "{'h/(h+s)': 0.065934065934065936, 's/all': 0.69672131147540983, 'h/all': 0.049180327868852458, 'index': 3.0}\n",
      "{'h/(h+s)': 0.13793103448275862, 's/all': 0.4838709677419355, 'h/all': 0.077419354838709681, 'index': 4.0}\n",
      "{'h/(h+s)': 0.13278008298755187, 's/all': 0.31618759455370649, 'h/all': 0.048411497730711045, 'index': 5.0}\n",
      "{'h/(h+s)': 0.26285714285714284, 's/all': 0.39938080495356038, 'h/all': 0.14241486068111456, 'index': 6.0}\n",
      "{'h/(h+s)': 0.2140221402214022, 's/all': 0.31415929203539822, 'h/all': 0.085545722713864306, 'index': 7.0}\n",
      "{'h/(h+s)': 0.18227848101265823, 's/all': 0.38044758539458184, 'h/all': 0.084805653710247356, 'index': 8.0}\n",
      "{'h/(h+s)': 0.28494623655913981, 's/all': 0.28663793103448276, 'h/all': 0.11422413793103449, 'index': 9.0}\n",
      "{'h/(h+s)': 0.28865979381443296, 's/all': 0.29999999999999999, 'h/all': 0.12173913043478261, 'index': 10.0}\n",
      "{'h/(h+s)': 0.15261044176706828, 's/all': 0.36285468615649186, 'h/all': 0.065348237317282884, 'index': 11.0}\n",
      "{'h/(h+s)': 0.20689655172413793, 's/all': 0.38764044943820225, 'h/all': 0.10112359550561797, 'index': 12.0}\n",
      "{'h/(h+s)': 0.066666666666666666, 's/all': 0.3783783783783784, 'h/all': 0.027027027027027029, 'index': 13.0}\n",
      "{'h/(h+s)': 0.053742802303262956, 's/all': 0.49054726368159202, 'h/all': 0.027860696517412936, 'index': 14.0}\n",
      "{'h/(h+s)': 0.13636363636363635, 's/all': 0.33129904097646035, 'h/all': 0.052310374891020049, 'index': 15.0}\n",
      "{'h/(h+s)': 0.29629629629629628, 's/all': 0.34545454545454546, 'h/all': 0.14545454545454545, 'index': 16.0}\n",
      "{'h/(h+s)': 0.18292682926829268, 's/all': 0.34835355285961872, 'h/all': 0.077989601386481797, 'index': 17.0}\n",
      "{'h/(h+s)': 0.11693548387096774, 's/all': 0.34433962264150941, 'h/all': 0.045597484276729557, 'index': 18.0}\n",
      "{'h/(h+s)': 0.27192982456140352, 's/all': 0.1828193832599119, 'h/all': 0.068281938325991193, 'index': 19.0}\n",
      "{'h/(h+s)': 0.25, 's/all': 0.28021978021978022, 'h/all': 0.093406593406593408, 'index': 20.0}\n",
      "{'h/(h+s)': 0.32786885245901637, 's/all': 0.31297709923664124, 'h/all': 0.15267175572519084, 'index': 21.0}\n",
      "{'h/(h+s)': 0.15642458100558659, 's/all': 0.4660493827160494, 'h/all': 0.086419753086419748, 'index': 22.0}\n",
      "{'h/(h+s)': 0.34562211981566821, 's/all': 0.27047619047619048, 'h/all': 0.14285714285714285, 'index': 23.0}\n",
      "{'h/(h+s)': 0.46280991735537191, 's/all': 0.22222222222222221, 'h/all': 0.19145299145299147, 'index': 24.0}\n",
      "{'h/(h+s)': 0.48148148148148145, 's/all': 0.19029126213592232, 'h/all': 0.1766990291262136, 'index': 25.0}\n",
      "{'h/(h+s)': 0.11607142857142858, 's/all': 0.33904109589041098, 'h/all': 0.044520547945205477, 'index': 26.0}\n",
      "{'h/(h+s)': 0.084175084175084181, 's/all': 0.51809523809523805, 'h/all': 0.047619047619047616, 'index': 27.0}\n",
      "{'h/(h+s)': 0.24867724867724866, 's/all': 0.4507936507936508, 'h/all': 0.1492063492063492, 'index': 28.0}\n",
      "{'h/(h+s)': 0.30303030303030304, 's/all': 0.25274725274725274, 'h/all': 0.10989010989010989, 'index': 29.0}\n",
      "{'h/(h+s)': 0.21691176470588236, 's/all': 0.36660929432013767, 'h/all': 0.10154905335628227, 'index': 30.0}\n",
      "{'h/(h+s)': 0.14018691588785046, 's/all': 0.30666666666666664, 'h/all': 0.050000000000000003, 'index': 31.0}\n",
      "{'h/(h+s)': 0.2361111111111111, 's/all': 0.3503184713375796, 'h/all': 0.10828025477707007, 'index': 32.0}\n",
      "{'h/(h+s)': 0.11644657863145258, 's/all': 0.44204204204204206, 'h/all': 0.058258258258258255, 'index': 33.0}\n",
      "{'h/(h+s)': 0.18859649122807018, 's/all': 0.23432552248258393, 'h/all': 0.05446485117162761, 'index': 34.0}\n",
      "{'h/(h+s)': 0.31278538812785389, 's/all': 0.27973977695167285, 'h/all': 0.12732342007434944, 'index': 35.0}\n",
      "{'h/(h+s)': 0.65289256198347112, 's/all': 0.11931818181818182, 'h/all': 0.22443181818181818, 'index': 36.0}\n",
      "{'h/(h+s)': 0.27419354838709675, 's/all': 0.27777777777777779, 'h/all': 0.10493827160493827, 'index': 37.0}\n",
      "{'h/(h+s)': 0.5, 's/all': 0.16500000000000001, 'h/all': 0.16500000000000001, 'index': 38.0}\n",
      "{'h/(h+s)': 0.37777777777777777, 's/all': 0.36842105263157893, 'h/all': 0.22368421052631579, 'index': 39.0}\n",
      "{'h/(h+s)': 0.14393939393939395, 's/all': 0.44313725490196076, 'h/all': 0.074509803921568626, 'index': 40.0}\n",
      "{'h/(h+s)': 0.14851485148514851, 's/all': 0.35354573484069884, 'h/all': 0.061664953751284689, 'index': 41.0}\n",
      "{'h/(h+s)': 0.11475409836065574, 's/all': 0.3253012048192771, 'h/all': 0.042168674698795178, 'index': 43.0}\n",
      "{'h/(h+s)': 0.21052631578947367, 's/all': 0.31531531531531531, 'h/all': 0.08408408408408409, 'index': 44.0}\n",
      "{'h/(h+s)': 0.18326693227091634, 's/all': 0.39728682170542634, 'h/all': 0.089147286821705432, 'index': 45.0}\n",
      "{'h/(h+s)': 0.11510791366906475, 's/all': 0.3923444976076555, 'h/all': 0.051036682615629984, 'index': 46.0}\n",
      "{'h/(h+s)': 0.21975308641975308, 's/all': 0.37799043062200954, 'h/all': 0.10645933014354067, 'index': 47.0}\n",
      "{'h/(h+s)': 0.40000000000000002, 's/all': 0.59999999999999998, 'h/all': 0.40000000000000002, 'index': 48.0}\n",
      "{'h/(h+s)': 0.20220588235294118, 's/all': 0.39099099099099099, 'h/all': 0.0990990990990991, 'index': 49.0}\n",
      "{'h/(h+s)': 0.021897810218978103, 's/all': 0.55144032921810704, 'h/all': 0.012345679012345678, 'index': 50.0}\n",
      "{'h/(h+s)': 0.10344827586206896, 's/all': 0.48148148148148145, 'h/all': 0.055555555555555552, 'index': 51.0}\n",
      "{'h/(h+s)': 0.34883720930232559, 's/all': 0.099115044247787609, 'h/all': 0.053097345132743362, 'index': 52.0}\n",
      "{'h/(h+s)': 0.14326647564469913, 's/all': 0.44494047619047616, 'h/all': 0.074404761904761904, 'index': 53.0}\n",
      "{'h/(h+s)': 0.40127388535031849, 's/all': 0.32302405498281789, 'h/all': 0.21649484536082475, 'index': 54.0}\n",
      "{'h/(h+s)': 0.2861736334405145, 's/all': 0.38743455497382201, 'h/all': 0.15532286212914484, 'index': 55.0}\n",
      "{'h/(h+s)': 0.15748031496062992, 's/all': 0.33647798742138363, 'h/all': 0.062893081761006289, 'index': 56.0}\n",
      "{'h/(h+s)': 0.41666666666666669, 's/all': 0.12962962962962962, 'h/all': 0.092592592592592587, 'index': 57.0}\n",
      "{'h/(h+s)': 0.28000000000000003, 's/all': 0.26666666666666666, 'h/all': 0.1037037037037037, 'index': 58.0}\n",
      "{'h/(h+s)': 0.21951219512195122, 's/all': 0.34782608695652173, 'h/all': 0.097826086956521743, 'index': 59.0}\n",
      "{'h/(h+s)': 0.63568773234200748, 's/all': 0.13154362416107382, 'h/all': 0.22953020134228189, 'index': 60.0}\n",
      "{'h/(h+s)': 0.53333333333333333, 's/all': 0.19444444444444445, 'h/all': 0.22222222222222221, 'index': 61.0}\n",
      "{'h/(h+s)': 0.33546325878594252, 's/all': 0.30678466076696165, 'h/all': 0.15486725663716813, 'index': 63.0}\n",
      "{'h/(h+s)': 0.10429447852760736, 's/all': 0.49659863945578231, 'h/all': 0.057823129251700682, 'index': 64.0}\n",
      "{'h/(h+s)': 0.25, 's/all': 0.11392405063291139, 'h/all': 0.037974683544303799, 'index': 65.0}\n",
      "{'h/(h+s)': 0.38671875, 's/all': 0.30192307692307691, 'h/all': 0.19038461538461537, 'index': 66.0}\n",
      "{'h/(h+s)': 0.17289719626168223, 's/all': 0.3443579766536965, 'h/all': 0.071984435797665364, 'index': 67.0}\n",
      "{'h/(h+s)': 0.20524017467248909, 's/all': 0.35271317829457366, 'h/all': 0.091085271317829453, 'index': 68.0}\n",
      "{'h/(h+s)': 0.22277227722772278, 's/all': 0.34562465602641718, 'h/all': 0.099064391854705558, 'index': 69.0}\n",
      "{'h/(h+s)': 0.076142131979695438, 's/all': 0.58146964856230032, 'h/all': 0.047923322683706068, 'index': 70.0}\n",
      "{'h/(h+s)': 0.3235294117647059, 's/all': 0.24420849420849422, 'h/all': 0.1167953667953668, 'index': 71.0}\n",
      "{'h/(h+s)': 0.49382716049382713, 's/all': 0.23976608187134502, 'h/all': 0.23391812865497075, 'index': 72.0}\n",
      "{'h/(h+s)': 0.20501138952164008, 's/all': 0.22472633612363169, 'h/all': 0.057952350289761749, 'index': 73.0}\n",
      "{'h/(h+s)': 0.24197530864197531, 's/all': 0.32521186440677968, 'h/all': 0.1038135593220339, 'index': 74.0}\n",
      "{'h/(h+s)': 0.15841584158415842, 's/all': 0.28523489932885904, 'h/all': 0.053691275167785234, 'index': 75.0}\n",
      "{'h/(h+s)': 0.17196261682242991, 's/all': 0.37478849407783416, 'h/all': 0.077834179357021999, 'index': 76.0}\n",
      "{'h/(h+s)': 0.20858895705521471, 's/all': 0.37719298245614036, 'h/all': 0.099415204678362568, 'index': 77.0}\n",
      "{'h/(h+s)': 0.31914893617021278, 's/all': 0.30188679245283018, 'h/all': 0.14150943396226415, 'index': 78.0}\n",
      "{'h/(h+s)': 0.28175519630484991, 's/all': 0.50569105691056915, 'h/all': 0.19837398373983739, 'index': 79.0}\n",
      "{'h/(h+s)': 0.33724340175953077, 's/all': 0.26066897347174162, 'h/all': 0.13264129181084197, 'index': 80.0}\n",
      "{'h/(h+s)': 0.38202247191011235, 's/all': 0.16140865737344093, 'h/all': 0.099779897285399849, 'index': 81.0}\n",
      "{'h/(h+s)': 0.19047619047619047, 's/all': 0.19540229885057472, 'h/all': 0.045977011494252873, 'index': 82.0}\n",
      "{'h/(h+s)': 0.43137254901960786, 's/all': 0.29531568228105909, 'h/all': 0.22403258655804481, 'index': 83.0}\n",
      "{'h/(h+s)': 0.22222222222222221, 's/all': 0.3559322033898305, 'h/all': 0.10169491525423729, 'index': 84.0}\n",
      "{'h/(h+s)': 0.28421052631578947, 's/all': 0.24285714285714285, 'h/all': 0.096428571428571433, 'index': 85.0}\n",
      "{'h/(h+s)': 0.34397163120567376, 's/all': 0.28951486697965573, 'h/all': 0.15179968701095461, 'index': 86.0}\n",
      "{'h/(h+s)': 0.21989528795811519, 's/all': 0.44610778443113774, 'h/all': 0.12574850299401197, 'index': 87.0}\n",
      "{'h/(h+s)': 0.30959752321981426, 's/all': 0.32318840579710145, 'h/all': 0.14492753623188406, 'index': 88.0}\n",
      "{'h/(h+s)': 0.041666666666666664, 's/all': 0.33658536585365856, 'h/all': 0.014634146341463415, 'index': 89.0}\n",
      "{'h/(h+s)': 0.33333333333333331, 's/all': 0.24365482233502539, 'h/all': 0.12182741116751269, 'index': 90.0}\n",
      "{'h/(h+s)': 0.13333333333333333, 's/all': 0.12206572769953052, 'h/all': 0.018779342723004695, 'index': 91.0}\n",
      "{'h/(h+s)': 0.67808219178082196, 's/all': 0.15932203389830507, 'h/all': 0.33559322033898303, 'index': 92.0}\n",
      "{'h/(h+s)': 0.59999999999999998, 's/all': 0.22222222222222221, 'h/all': 0.33333333333333331, 'index': 93.0}\n",
      "{'h/(h+s)': 0.51657458563535907, 's/all': 0.18939393939393939, 'h/all': 0.20238095238095238, 'index': 94.0}\n",
      "{'h/(h+s)': 0.26063829787234044, 's/all': 0.2417391304347826, 'h/all': 0.085217391304347828, 'index': 95.0}\n",
      "{'h/(h+s)': 0.45000000000000001, 's/all': 0.125, 'h/all': 0.10227272727272728, 'index': 96.0}\n",
      "{'h/(h+s)': 0.34848484848484851, 's/all': 0.28429752066115704, 'h/all': 0.15206611570247933, 'index': 97.0}\n",
      "{'h/(h+s)': 0.22321428571428573, 's/all': 0.23835616438356164, 'h/all': 0.068493150684931503, 'index': 98.0}\n",
      "{'h/(h+s)': 0.125, 's/all': 0.3783783783783784, 'h/all': 0.054054054054054057, 'index': 100.0}\n",
      "{'h/(h+s)': 0.17153284671532848, 's/all': 0.58056265984654731, 'h/all': 0.12020460358056266, 'index': 251.0}\n",
      "{'h/(h+s)': 0.051948051948051951, 's/all': 0.48993288590604028, 'h/all': 0.026845637583892617, 'index': 252.0}\n",
      "{'h/(h+s)': 0.049382716049382713, 's/all': 0.40957446808510639, 'h/all': 0.021276595744680851, 'index': 253.0}\n",
      "{'h/(h+s)': 0.14285714285714285, 's/all': 0.4370860927152318, 'h/all': 0.072847682119205295, 'index': 254.0}\n"
     ]
    }
   ],
   "source": [
    "for x in df.to_dict(orient='records'):\n",
    "    print(x)"
   ]
  },
  {
   "cell_type": "code",
   "execution_count": null,
   "metadata": {},
   "outputs": [],
   "source": [
    "emotions"
   ]
  },
  {
   "cell_type": "code",
   "execution_count": null,
   "metadata": {},
   "outputs": [],
   "source": []
  }
 ],
 "metadata": {
  "kernelspec": {
   "display_name": "Python 3",
   "language": "python",
   "name": "python3"
  },
  "language_info": {
   "codemirror_mode": {
    "name": "ipython",
    "version": 3
   },
   "file_extension": ".py",
   "mimetype": "text/x-python",
   "name": "python",
   "nbconvert_exporter": "python",
   "pygments_lexer": "ipython3",
   "version": "3.5.2"
  }
 },
 "nbformat": 4,
 "nbformat_minor": 2
}
